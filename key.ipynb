{
 "cells": [
  {
   "cell_type": "markdown",
   "id": "bf601984",
   "metadata": {},
   "source": [
    "# Exercise Solutions\n",
    "## Exercise #1:"
   ]
  },
  {
   "cell_type": "code",
   "execution_count": 2,
   "id": "382aeb83",
   "metadata": {},
   "outputs": [
    {
     "name": "stdout",
     "output_type": "stream",
     "text": [
      "26.22222222222222\n"
     ]
    }
   ],
   "source": [
    "#1:\n",
    "x =4\n",
    "#2:\n",
    "x = x + 100\n",
    "#3:\n",
    "x = x/4.5\n",
    "#4:\n",
    "x = x - 10\n",
    "#5:\n",
    "x = x * 2\n",
    "#6:\n",
    "print(x)"
   ]
  },
  {
   "cell_type": "code",
   "execution_count": 3,
   "id": "99926877",
   "metadata": {},
   "outputs": [
    {
     "data": {
      "text/plain": [
       "26.22222222222222"
      ]
     },
     "execution_count": 3,
     "metadata": {},
     "output_type": "execute_result"
    }
   ],
   "source": [
    "# Bonus\n",
    "x = 4\n",
    "((x + 100)/4.5 - 10) * 2"
   ]
  },
  {
   "cell_type": "markdown",
   "id": "f5e66f19",
   "metadata": {},
   "source": [
    "## Exercise #2:"
   ]
  },
  {
   "cell_type": "code",
   "execution_count": 4,
   "id": "d7de59dc",
   "metadata": {},
   "outputs": [
    {
     "name": "stdout",
     "output_type": "stream",
     "text": [
      "['pizza', 'pancakes', 'pears']\n"
     ]
    }
   ],
   "source": [
    "# 1: Make a list of your 3 favorite foods and assign to a variable called `food`.\n",
    "# Print. your list using the variable name.\n",
    "food = ['pizza', 'pancakes', 'pears']\n",
    "print(food)"
   ]
  },
  {
   "cell_type": "code",
   "execution_count": 5,
   "id": "2a37ffb8",
   "metadata": {},
   "outputs": [
    {
     "name": "stdout",
     "output_type": "stream",
     "text": [
      "['pizza', 'pancakes', 'pears', 'chocolate']\n"
     ]
    }
   ],
   "source": [
    "#2:Now add your 1 of your neighbor's favorite foods to your list using append. \n",
    "# For those of you that are virtual feel free to type a food in the chat or add my favorite food `'chocolate'.\n",
    "# Print your updated list.\n",
    "\n",
    "food.append('chocolate')\n",
    "print(food)\n"
   ]
  },
  {
   "cell_type": "code",
   "execution_count": 6,
   "id": "39882696",
   "metadata": {},
   "outputs": [
    {
     "data": {
      "text/plain": [
       "'chocolate'"
      ]
     },
     "execution_count": 6,
     "metadata": {},
     "output_type": "execute_result"
    }
   ],
   "source": [
    "food[3]"
   ]
  },
  {
   "cell_type": "code",
   "execution_count": 7,
   "id": "8cf7255e",
   "metadata": {},
   "outputs": [
    {
     "data": {
      "text/plain": [
       "'o'"
      ]
     },
     "execution_count": 7,
     "metadata": {},
     "output_type": "execute_result"
    }
   ],
   "source": [
    "food[3][4]"
   ]
  },
  {
   "cell_type": "code",
   "execution_count": 11,
   "id": "0ea59d6f",
   "metadata": {},
   "outputs": [
    {
     "name": "stdout",
     "output_type": "stream",
     "text": [
      "{'food': 'chocolate', 'hobby': 'arts/crafts', 'subject': 'biology'}\n"
     ]
    }
   ],
   "source": [
    "#3: Create a dictionary with the key's food, hobby, subject.\n",
    "# Assign each key your favorite. Call this dictionary `favorites`.\n",
    "favorites = {'food':'chocolate',\n",
    "            'hobby':'arts/crafts',\n",
    "            'subject':'biology'}\n",
    "print(favorites)"
   ]
  },
  {
   "cell_type": "code",
   "execution_count": 12,
   "id": "792ee69c",
   "metadata": {},
   "outputs": [
    {
     "name": "stdout",
     "output_type": "stream",
     "text": [
      "{'food': 'chocolate', 'hobby': 'arts/crafts', 'subject': 'biology', 'sport': 'swimming'}\n"
     ]
    }
   ],
   "source": [
    "favorites['sport'] = 'swimming'\n",
    "print(favorites)"
   ]
  },
  {
   "cell_type": "markdown",
   "id": "e23e1839",
   "metadata": {},
   "source": [
    "## Exercise #3"
   ]
  },
  {
   "cell_type": "code",
   "execution_count": null,
   "id": "cc9fc37a",
   "metadata": {},
   "outputs": [],
   "source": []
  }
 ],
 "metadata": {
  "kernelspec": {
   "display_name": "Python 3",
   "language": "python",
   "name": "python3"
  },
  "language_info": {
   "codemirror_mode": {
    "name": "ipython",
    "version": 3
   },
   "file_extension": ".py",
   "mimetype": "text/x-python",
   "name": "python",
   "nbconvert_exporter": "python",
   "pygments_lexer": "ipython3",
   "version": "3.8.8"
  }
 },
 "nbformat": 4,
 "nbformat_minor": 5
}
